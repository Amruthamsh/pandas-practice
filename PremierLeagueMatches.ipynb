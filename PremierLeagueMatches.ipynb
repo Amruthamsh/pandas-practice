{
 "cells": [
  {
   "cell_type": "code",
   "execution_count": 1,
   "id": "9341375d-bbe0-48c3-b8c1-37e9ce6f03bd",
   "metadata": {},
   "outputs": [],
   "source": [
    "import pandas as pd"
   ]
  },
  {
   "cell_type": "code",
   "execution_count": 5,
   "id": "37379e2c-a65d-4fc1-92bd-f0befa979995",
   "metadata": {},
   "outputs": [
    {
     "data": {
      "text/html": [
       "<div>\n",
       "<style scoped>\n",
       "    .dataframe tbody tr th:only-of-type {\n",
       "        vertical-align: middle;\n",
       "    }\n",
       "\n",
       "    .dataframe tbody tr th {\n",
       "        vertical-align: top;\n",
       "    }\n",
       "\n",
       "    .dataframe thead th {\n",
       "        text-align: right;\n",
       "    }\n",
       "</style>\n",
       "<table border=\"1\" class=\"dataframe\">\n",
       "  <thead>\n",
       "    <tr style=\"text-align: right;\">\n",
       "      <th></th>\n",
       "      <th>Season_End_Year</th>\n",
       "      <th>Wk</th>\n",
       "      <th>Date</th>\n",
       "      <th>Home</th>\n",
       "      <th>HomeGoals</th>\n",
       "      <th>AwayGoals</th>\n",
       "      <th>Away</th>\n",
       "      <th>FTR</th>\n",
       "    </tr>\n",
       "  </thead>\n",
       "  <tbody>\n",
       "    <tr>\n",
       "      <th>0</th>\n",
       "      <td>1993</td>\n",
       "      <td>1</td>\n",
       "      <td>1992-08-15</td>\n",
       "      <td>Coventry City</td>\n",
       "      <td>2</td>\n",
       "      <td>1</td>\n",
       "      <td>Middlesbrough</td>\n",
       "      <td>H</td>\n",
       "    </tr>\n",
       "    <tr>\n",
       "      <th>1</th>\n",
       "      <td>1993</td>\n",
       "      <td>1</td>\n",
       "      <td>1992-08-15</td>\n",
       "      <td>Leeds United</td>\n",
       "      <td>2</td>\n",
       "      <td>1</td>\n",
       "      <td>Wimbledon</td>\n",
       "      <td>H</td>\n",
       "    </tr>\n",
       "    <tr>\n",
       "      <th>2</th>\n",
       "      <td>1993</td>\n",
       "      <td>1</td>\n",
       "      <td>1992-08-15</td>\n",
       "      <td>Sheffield Utd</td>\n",
       "      <td>2</td>\n",
       "      <td>1</td>\n",
       "      <td>Manchester Utd</td>\n",
       "      <td>H</td>\n",
       "    </tr>\n",
       "    <tr>\n",
       "      <th>3</th>\n",
       "      <td>1993</td>\n",
       "      <td>1</td>\n",
       "      <td>1992-08-15</td>\n",
       "      <td>Crystal Palace</td>\n",
       "      <td>3</td>\n",
       "      <td>3</td>\n",
       "      <td>Blackburn</td>\n",
       "      <td>D</td>\n",
       "    </tr>\n",
       "    <tr>\n",
       "      <th>4</th>\n",
       "      <td>1993</td>\n",
       "      <td>1</td>\n",
       "      <td>1992-08-15</td>\n",
       "      <td>Arsenal</td>\n",
       "      <td>2</td>\n",
       "      <td>4</td>\n",
       "      <td>Norwich City</td>\n",
       "      <td>A</td>\n",
       "    </tr>\n",
       "    <tr>\n",
       "      <th>...</th>\n",
       "      <td>...</td>\n",
       "      <td>...</td>\n",
       "      <td>...</td>\n",
       "      <td>...</td>\n",
       "      <td>...</td>\n",
       "      <td>...</td>\n",
       "      <td>...</td>\n",
       "      <td>...</td>\n",
       "    </tr>\n",
       "    <tr>\n",
       "      <th>12021</th>\n",
       "      <td>2023</td>\n",
       "      <td>38</td>\n",
       "      <td>2023-05-28</td>\n",
       "      <td>Everton</td>\n",
       "      <td>1</td>\n",
       "      <td>0</td>\n",
       "      <td>Bournemouth</td>\n",
       "      <td>H</td>\n",
       "    </tr>\n",
       "    <tr>\n",
       "      <th>12022</th>\n",
       "      <td>2023</td>\n",
       "      <td>38</td>\n",
       "      <td>2023-05-28</td>\n",
       "      <td>Leicester City</td>\n",
       "      <td>2</td>\n",
       "      <td>1</td>\n",
       "      <td>West Ham</td>\n",
       "      <td>H</td>\n",
       "    </tr>\n",
       "    <tr>\n",
       "      <th>12023</th>\n",
       "      <td>2023</td>\n",
       "      <td>38</td>\n",
       "      <td>2023-05-28</td>\n",
       "      <td>Aston Villa</td>\n",
       "      <td>2</td>\n",
       "      <td>1</td>\n",
       "      <td>Brighton</td>\n",
       "      <td>H</td>\n",
       "    </tr>\n",
       "    <tr>\n",
       "      <th>12024</th>\n",
       "      <td>2023</td>\n",
       "      <td>38</td>\n",
       "      <td>2023-05-28</td>\n",
       "      <td>Leeds United</td>\n",
       "      <td>1</td>\n",
       "      <td>4</td>\n",
       "      <td>Tottenham</td>\n",
       "      <td>A</td>\n",
       "    </tr>\n",
       "    <tr>\n",
       "      <th>12025</th>\n",
       "      <td>2023</td>\n",
       "      <td>38</td>\n",
       "      <td>2023-05-28</td>\n",
       "      <td>Brentford</td>\n",
       "      <td>1</td>\n",
       "      <td>0</td>\n",
       "      <td>Manchester City</td>\n",
       "      <td>H</td>\n",
       "    </tr>\n",
       "  </tbody>\n",
       "</table>\n",
       "<p>12026 rows × 8 columns</p>\n",
       "</div>"
      ],
      "text/plain": [
       "       Season_End_Year  Wk        Date            Home  HomeGoals  AwayGoals  \\\n",
       "0                 1993   1  1992-08-15   Coventry City          2          1   \n",
       "1                 1993   1  1992-08-15    Leeds United          2          1   \n",
       "2                 1993   1  1992-08-15   Sheffield Utd          2          1   \n",
       "3                 1993   1  1992-08-15  Crystal Palace          3          3   \n",
       "4                 1993   1  1992-08-15         Arsenal          2          4   \n",
       "...                ...  ..         ...             ...        ...        ...   \n",
       "12021             2023  38  2023-05-28         Everton          1          0   \n",
       "12022             2023  38  2023-05-28  Leicester City          2          1   \n",
       "12023             2023  38  2023-05-28     Aston Villa          2          1   \n",
       "12024             2023  38  2023-05-28    Leeds United          1          4   \n",
       "12025             2023  38  2023-05-28       Brentford          1          0   \n",
       "\n",
       "                  Away FTR  \n",
       "0        Middlesbrough   H  \n",
       "1            Wimbledon   H  \n",
       "2       Manchester Utd   H  \n",
       "3            Blackburn   D  \n",
       "4         Norwich City   A  \n",
       "...                ...  ..  \n",
       "12021      Bournemouth   H  \n",
       "12022         West Ham   H  \n",
       "12023         Brighton   H  \n",
       "12024        Tottenham   A  \n",
       "12025  Manchester City   H  \n",
       "\n",
       "[12026 rows x 8 columns]"
      ]
     },
     "execution_count": 5,
     "metadata": {},
     "output_type": "execute_result"
    }
   ],
   "source": [
    "df = pd.read_csv('premier-league-matches.csv')\n",
    "df"
   ]
  },
  {
   "cell_type": "code",
   "execution_count": 4,
   "id": "ab742409-a423-48ec-bb81-58eabf0fedc4",
   "metadata": {},
   "outputs": [
    {
     "name": "stdout",
     "output_type": "stream",
     "text": [
      "<class 'pandas.core.frame.DataFrame'>\n",
      "RangeIndex: 12026 entries, 0 to 12025\n",
      "Data columns (total 8 columns):\n",
      " #   Column           Non-Null Count  Dtype \n",
      "---  ------           --------------  ----- \n",
      " 0   Season_End_Year  12026 non-null  int64 \n",
      " 1   Wk               12026 non-null  int64 \n",
      " 2   Date             12026 non-null  object\n",
      " 3   Home             12026 non-null  object\n",
      " 4   HomeGoals        12026 non-null  int64 \n",
      " 5   AwayGoals        12026 non-null  int64 \n",
      " 6   Away             12026 non-null  object\n",
      " 7   FTR              12026 non-null  object\n",
      "dtypes: int64(4), object(4)\n",
      "memory usage: 751.8+ KB\n"
     ]
    }
   ],
   "source": [
    "df.info()"
   ]
  },
  {
   "cell_type": "code",
   "execution_count": 10,
   "id": "6f09f019-2099-472a-ac1d-0420cfbf1f08",
   "metadata": {},
   "outputs": [
    {
     "data": {
      "text/plain": [
       "<Axes: >"
      ]
     },
     "execution_count": 10,
     "metadata": {},
     "output_type": "execute_result"
    },
    {
     "data": {
      "image/png": "[encoded data removed]",
      "text/plain": [
       "<Figure size 640x480 with 1 Axes>"
      ]
     },
     "metadata": {},
     "output_type": "display_data"
    }
   ],
   "source": [
    "df[['HomeGoals','AwayGoals']].plot(kind='box', vert=False)"
   ]
  },
  {
   "cell_type": "code",
   "execution_count": 11,
   "id": "1d1d327f-52a8-4a01-8538-ddf7b445dc25",
   "metadata": {},
   "outputs": [
    {
     "data": {
      "text/plain": [
       "FTR\n",
       "H    5519\n",
       "A    3410\n",
       "D    3097\n",
       "Name: count, dtype: int64"
      ]
     },
     "execution_count": 11,
     "metadata": {},
     "output_type": "execute_result"
    }
   ],
   "source": [
    "df[\"FTR\"].value_counts()"
   ]
  },
  {
   "cell_type": "markdown",
   "id": "f660e5ce-09dd-440a-bb8a-cd326be250d9",
   "metadata": {},
   "source": [
    "## Average number of goals per match"
   ]
  },
  {
   "cell_type": "code",
   "execution_count": 12,
   "id": "be761ae4-2065-4729-a253-cfb1740e3e9c",
   "metadata": {},
   "outputs": [
    {
     "data": {
      "text/plain": [
       "np.float64(2.666888408448362)"
      ]
     },
     "execution_count": 12,
     "metadata": {},
     "output_type": "execute_result"
    }
   ],
   "source": [
    "(df['HomeGoals'] + df['AwayGoals']).mean()"
   ]
  },
  {
   "cell_type": "markdown",
   "id": "97f8e9f9-ff3d-47b1-b886-d6fdf87fc702",
   "metadata": {},
   "source": [
    "## Calculate average goals per season"
   ]
  },
  {
   "cell_type": "code",
   "execution_count": 13,
   "id": "56214150-94f6-4c09-a547-0e128fa9911d",
   "metadata": {},
   "outputs": [
    {
     "data": {
      "text/plain": [
       "Season_End_Year\n",
       "1993    462\n",
       "1995    462\n",
       "1994    462\n",
       "2010    380\n",
       "2022    380\n",
       "2021    380\n",
       "2020    380\n",
       "2019    380\n",
       "2018    380\n",
       "2017    380\n",
       "2016    380\n",
       "2015    380\n",
       "2014    380\n",
       "2013    380\n",
       "2012    380\n",
       "2011    380\n",
       "2008    380\n",
       "2009    380\n",
       "2007    380\n",
       "2006    380\n",
       "2005    380\n",
       "2004    380\n",
       "2003    380\n",
       "2002    380\n",
       "2001    380\n",
       "2000    380\n",
       "1999    380\n",
       "1998    380\n",
       "1997    380\n",
       "1996    380\n",
       "2023    380\n",
       "Name: count, dtype: int64"
      ]
     },
     "execution_count": 13,
     "metadata": {},
     "output_type": "execute_result"
    }
   ],
   "source": [
    "df['Season_End_Year'].value_counts()"
   ]
  },
  {
   "cell_type": "code",
   "execution_count": 14,
   "id": "5118467d-e4fd-4fdd-960f-14c151e2dfbb",
   "metadata": {},
   "outputs": [],
   "source": [
    "df['TotalGoals'] = df['HomeGoals'] + df['AwayGoals']"
   ]
  },
  {
   "cell_type": "code",
   "execution_count": 15,
   "id": "6b91e96c-e8a4-4bfc-acff-c7c4829ae125",
   "metadata": {},
   "outputs": [
    {
     "data": {
      "text/plain": [
       "Season_End_Year\n",
       "1993    2.645022\n",
       "1994    2.586580\n",
       "1995    2.586580\n",
       "1996    2.600000\n",
       "1997    2.552632\n",
       "1998    2.681579\n",
       "1999    2.523684\n",
       "2000    2.789474\n",
       "2001    2.610526\n",
       "2002    2.634211\n",
       "2003    2.631579\n",
       "2004    2.663158\n",
       "2005    2.565789\n",
       "2006    2.484211\n",
       "2007    2.450000\n",
       "2008    2.636842\n",
       "2009    2.478947\n",
       "2010    2.771053\n",
       "2011    2.797368\n",
       "2012    2.805263\n",
       "2013    2.797368\n",
       "2014    2.768421\n",
       "2015    2.565789\n",
       "2016    2.700000\n",
       "2017    2.800000\n",
       "2018    2.678947\n",
       "2019    2.821053\n",
       "2020    2.721053\n",
       "2021    2.694737\n",
       "2022    2.818421\n",
       "2023    2.852632\n",
       "Name: TotalGoals, dtype: float64"
      ]
     },
     "execution_count": 15,
     "metadata": {},
     "output_type": "execute_result"
    }
   ],
   "source": [
    "goals_per_season = df.groupby(\"Season_End_Year\")['TotalGoals'].mean().sort_index()\n",
    "goals_per_season"
   ]
  },
  {
   "cell_type": "markdown",
   "id": "b5558904-a0c2-4a16-8a92-8e98c0cb6f15",
   "metadata": {},
   "source": [
    "## what is the biggest goal difference in a match?"
   ]
  },
  {
   "cell_type": "code",
   "execution_count": 20,
   "id": "2710191c-cac7-4333-b8bf-d15282b98b12",
   "metadata": {},
   "outputs": [
    {
     "data": {
      "text/plain": [
       "11681    9\n",
       "1246     9\n",
       "10596    9\n",
       "11093    9\n",
       "10559    8\n",
       "dtype: int64"
      ]
     },
     "execution_count": 20,
     "metadata": {},
     "output_type": "execute_result"
    }
   ],
   "source": [
    "(df['HomeGoals'] - df['AwayGoals']).abs().sort_values(ascending=False).head()"
   ]
  },
  {
   "cell_type": "markdown",
   "id": "95b5c66e-f058-421a-b720-ea23571846a1",
   "metadata": {},
   "source": [
    "## What's the team with most away wins"
   ]
  },
  {
   "cell_type": "code",
   "execution_count": 33,
   "id": "2c533579-8812-4fc9-9ed2-82afa42002e1",
   "metadata": {},
   "outputs": [
    {
     "data": {
      "text/plain": [
       "Away\n",
       "Manchester Utd     309\n",
       "Chelsea            269\n",
       "Arsenal            263\n",
       "Liverpool          252\n",
       "Manchester City    204\n",
       "Name: Away, dtype: int64"
      ]
     },
     "execution_count": 33,
     "metadata": {},
     "output_type": "execute_result"
    }
   ],
   "source": [
    "df.loc[df['FTR'] == 'A'].groupby('Away')['Away'].size().sort_values(ascending=False).head()"
   ]
  },
  {
   "cell_type": "markdown",
   "id": "d5bb9253-7f98-49e1-83af-f5bd51d53ccb",
   "metadata": {},
   "source": [
    "## Team with the most goals scored at home"
   ]
  },
  {
   "cell_type": "code",
   "execution_count": 37,
   "id": "bf859923-16fc-4a8f-a0aa-488fd801ee2a",
   "metadata": {},
   "outputs": [
    {
     "data": {
      "text/plain": [
       "Home\n",
       "Manchester Utd    1250\n",
       "Arsenal           1207\n",
       "Liverpool         1202\n",
       "Chelsea           1141\n",
       "Tottenham         1032\n",
       "Name: HomeGoals, dtype: int64"
      ]
     },
     "execution_count": 37,
     "metadata": {},
     "output_type": "execute_result"
    }
   ],
   "source": [
    "df.groupby('Home')['HomeGoals'].sum().sort_values(ascending=False).head()"
   ]
  },
  {
   "cell_type": "markdown",
   "id": "a7b5fbb8-9a38-42b7-8613-3e6514a8518a",
   "metadata": {},
   "source": [
    "## What's the team with the most goals scored playing as a visitor (away from home)?"
   ]
  },
  {
   "cell_type": "code",
   "execution_count": 43,
   "id": "c07187ee-87e9-428e-8211-c15e5fae2c41",
   "metadata": {},
   "outputs": [
    {
     "data": {
      "text/plain": [
       "Away\n",
       "Manchester Utd    993\n",
       "Arsenal           898\n",
       "Liverpool         894\n",
       "Chelsea           870\n",
       "Tottenham         783\n",
       "Name: AwayGoals, dtype: int64"
      ]
     },
     "execution_count": 43,
     "metadata": {},
     "output_type": "execute_result"
    }
   ],
   "source": [
    "df.groupby('Away')['AwayGoals'].sum().sort_values(ascending=False).head()"
   ]
  },
  {
   "cell_type": "code",
   "execution_count": null,
   "id": "a8c94db6-b5e5-4fbb-8810-7787148be006",
   "metadata": {},
   "outputs": [],
   "source": []
  }
 ],
 "metadata": {
  "kernelspec": {
   "display_name": "Python 3 (ipykernel)",
   "language": "python",
   "name": "python3"
  },
  "language_info": {
   "codemirror_mode": {
    "name": "ipython",
    "version": 3
   },
   "file_extension": ".py",
   "mimetype": "text/x-python",
   "name": "python",
   "nbconvert_exporter": "python",
   "pygments_lexer": "ipython3",
   "version": "3.12.3"
  }
 },
 "nbformat": 4,
 "nbformat_minor": 5
}
